{
 "cells": [
  {
   "cell_type": "code",
   "execution_count": 30,
   "id": "55a27294-482c-4abc-9a8b-bc363140292e",
   "metadata": {},
   "outputs": [
    {
     "data": {
      "text/plain": [
       "'C:\\\\Users\\\\Administrator'"
      ]
     },
     "execution_count": 30,
     "metadata": {},
     "output_type": "execute_result"
    }
   ],
   "source": [
    "pwd"
   ]
  },
  {
   "cell_type": "code",
   "execution_count": 19,
   "id": "5ad0ea7f-d74b-48be-b894-efa81a701e42",
   "metadata": {},
   "outputs": [],
   "source": [
    "a=6"
   ]
  },
  {
   "cell_type": "markdown",
   "id": "95d83fe3-9c1c-45b0-9067-c770ef1fc71e",
   "metadata": {},
   "source": [
    "<a href=\"https://pynative.com/wp-content/uploads/2021/02/dictionaries-in-python.jpg\">dictionary</a>"
   ]
  },
  {
   "cell_type": "markdown",
   "id": "d8154216-75fe-44e7-bec8-bd89a4dd937b",
   "metadata": {},
   "source": [
    "<img src=\"images/1.jpg\"/>"
   ]
  },
  {
   "cell_type": "markdown",
   "id": "b6d96633-b881-43e9-9e2a-7f6e1f2dc2a5",
   "metadata": {},
   "source": [
    "<h1>dictionay</h1>\n",
    "<h4> 딕셔너리는 키와 value의 쌍으로이루어진데이터 =>자바스크립트의 객체와 동일</h4>"
   ]
  },
  {
   "cell_type": "code",
   "execution_count": 21,
   "id": "4ff1cf12-98b9-430a-af00-70b6b21a2166",
   "metadata": {},
   "outputs": [],
   "source": [
    "a={'a':6} # dictionary  "
   ]
  },
  {
   "cell_type": "code",
   "execution_count": null,
   "id": "8eefe1fe-c9f4-449c-9063-4d62d78501c2",
   "metadata": {},
   "outputs": [],
   "source": [
    "b=[1,2,4] #리스트 "
   ]
  },
  {
   "cell_type": "code",
   "execution_count": 25,
   "id": "1bc33bd6-0bad-4aa3-9559-0e35eee85fab",
   "metadata": {},
   "outputs": [
    {
     "data": {
      "text/plain": [
       "{'a': 6, 'b': 13}"
      ]
     },
     "execution_count": 25,
     "metadata": {},
     "output_type": "execute_result"
    }
   ],
   "source": [
    "a['b']=13\n",
    "a"
   ]
  },
  {
   "cell_type": "code",
   "execution_count": null,
   "id": "627622a2-c5e8-402f-9a9d-660191e9c7db",
   "metadata": {},
   "outputs": [],
   "source": [
    "a.c=13"
   ]
  },
  {
   "cell_type": "code",
   "execution_count": null,
   "id": "20ac40a1-9b57-4140-9a43-10ec325aac41",
   "metadata": {},
   "outputs": [],
   "source": []
  }
 ],
 "metadata": {
  "kernelspec": {
   "display_name": "Python [conda env:base] *",
   "language": "python",
   "name": "conda-base-py"
  },
  "language_info": {
   "codemirror_mode": {
    "name": "ipython",
    "version": 3
   },
   "file_extension": ".py",
   "mimetype": "text/x-python",
   "name": "python",
   "nbconvert_exporter": "python",
   "pygments_lexer": "ipython3",
   "version": "3.12.7"
  }
 },
 "nbformat": 4,
 "nbformat_minor": 5
}
